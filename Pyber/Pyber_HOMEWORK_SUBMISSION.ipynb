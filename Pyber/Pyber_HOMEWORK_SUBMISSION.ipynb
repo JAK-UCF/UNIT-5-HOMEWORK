{
 "cells": [
  {
   "cell_type": "markdown",
   "metadata": {},
   "source": [
    "### Pyber Evaluation\n",
    "   >* TREND OBSERVATION 1: The Rural market, because of low driver count, has the highest fare earned per driver at 55.49 USD, the highest average fare at 34.62 USD, and the highest number of average rides per driver at 1.6. These drivers have a pricing advantage on riders. \n",
    "   \n",
    "   >* TREND OBSERVATION 2: The Urban market is overrun with drivers. Because of the high supply of drivers, rates are very competitive and the Urban market runs an average earned fare per driver of only 16.57 USD, just 30% of the Rural market's average earnings per driver. Further, the Urban market runs an average fare of 24.53 USD. It is likely that this does not decline as steeply as the fare per driver, and holds at 71% of the Rural average fare, because of the offsetting increase during surge pricing cycles (ex. rush hour,  events, bar close, etc.). Despite having over 68% of all of Pyber's rides, because of driver saturation, there are only 0.7 rides per driver. Riders have the advantage in the Urban market.\n",
    "   \n",
    "   >* TREND OBSERVATION 3: Per observations 1 and 2, Pyber is having some supply and demand issues between market types. Urban drivers have to seemingly work harder (drive more people) for the equivalent money, but have the opportunity to do so more frequently and likely more conveniently, due to ride volume.\n",
    "   \n",
    "   \n",
    "   >Pyber should consider incentives to shift a few drivers to the Rural market. If they simply shared this information with their drivers, they would likely see a natural shift due to the difference in per fare and per driver earnings. These shifts will cause flux within the current numbers, but they may see that they run more fares for more profit overall. <br/><br/>\n",
    "   >At half the amount of fares per driver as the Rural market, Pyber should consider a driver cap. While less advantageous for the riders, it would allow for more rides per driver and may allow for the prices to increase due to less immediate driver availability. <br/><br/>\n",
    "   >Potential exists to shift drivers outward from city center. Drivers on the edges of the Urban market could pick up fares in the Suburban market, and those on the edges of the Suburbs could start running fares in the Rural market, bringing a bit more balance. <br/><br/>\n",
    "   **Requires additional location data and testing."
   ]
  },
  {
   "cell_type": "code",
   "execution_count": null,
   "metadata": {},
   "outputs": [],
   "source": [
    "%matplotlib inline"
   ]
  },
  {
   "cell_type": "code",
   "execution_count": null,
   "metadata": {
    "scrolled": true
   },
   "outputs": [],
   "source": [
    "import os\n",
    "import matplotlib.pyplot as plt\n",
    "import pandas as pd\n",
    "import numpy as np\n",
    "\n",
    "city_path = os.path.join('Data', 'city_data.csv')\n",
    "ride_path = os.path.join('Data', 'ride_data.csv')\n",
    "\n",
    "city_info = pd.read_csv(city_path) # city_info raw columns >> city, driver_count, type\n",
    "ride_info = pd.read_csv(ride_path) # ride_info raw columns >> city, date (<<DROP COLUMN, not needed), fare, ride_id\n",
    "\n",
    "primary_df = pd.merge(city_info, ride_info, how = 'outer', on = 'city', sort = False)\n",
    "\n",
    "primary_df = primary_df[['type', 'city', 'driver_count', 'ride_id', 'fare']]\n",
    "primary_df = (primary_df.rename(columns = {'type': 'Market Type', \n",
    "                                           'city': 'City', \n",
    "                                           'driver_count': 'Number of Drivers',\n",
    "                                           'ride_id': 'Ride ID', \n",
    "                                           'fare': 'Fare'}))\n",
    "# primary_df.head()"
   ]
  },
  {
   "cell_type": "code",
   "execution_count": null,
   "metadata": {},
   "outputs": [],
   "source": [
    "# Create manipulatable df copy so as not to overwrite primary_df.\n",
    "# This copied df summarizes ride count, average fare per city, and total fares per city with cities grouped by market type.\n",
    "\n",
    "market_cities_by_groups_df = pd.DataFrame(primary_df)\n",
    "market_cities_by_groups_df = market_cities_by_groups_df.groupby(['Market Type', 'City'])\n",
    "city_ridefares_df = market_cities_by_groups_df['Fare'].agg(['count', 'mean', 'sum'])\n",
    "city_ridefares_df.columns = ['Number of Rides', 'Average Fare per Ride', 'Total Fares (City)']\n",
    "# city_ridefares_df.head()\n",
    "\n",
    "total_ALL_fares = city_ridefares_df['Total Fares (City)'].agg('sum')\n",
    "# total_ALL_fares\n",
    "\n",
    "total_ALL_rides = city_ridefares_df['Number of Rides'].agg('sum')\n",
    "# total_ALL_rides"
   ]
  },
  {
   "cell_type": "code",
   "execution_count": null,
   "metadata": {},
   "outputs": [],
   "source": [
    "# Create driver_count_df for merge with rides/average fares df.\n",
    "\n",
    "driver_count_df = pd.DataFrame(primary_df[['Market Type', 'City', 'Number of Drivers']])\n",
    "driver_count_df = driver_count_df.drop_duplicates('City')\n",
    "# driver_count_df.head()\n",
    "\n",
    "total_ALL_drivers = driver_count_df['Number of Drivers'].agg('sum')\n",
    "# total_ALL_drivers"
   ]
  },
  {
   "cell_type": "code",
   "execution_count": null,
   "metadata": {},
   "outputs": [],
   "source": [
    "# Merge city rides and fares with driver count by city\n",
    "\n",
    "per_city_summary_df = pd.merge(city_ridefares_df, driver_count_df, how = 'outer', on = 'City', sort = False)\n",
    "per_city_summary_df = (per_city_summary_df\n",
    "    [['Market Type', 'City', 'Number of Drivers', 'Number of Rides', 'Average Fare per Ride', 'Total Fares (City)']])\n",
    "# per_city_summary_df.head()"
   ]
  },
  {
   "cell_type": "code",
   "execution_count": null,
   "metadata": {},
   "outputs": [],
   "source": [
    "# Filter for RURAL market analysis.\n",
    "\n",
    "rural_market = per_city_summary_df[per_city_summary_df['Market Type'] == 'Rural']\n",
    "rural_drivers = rural_market['Number of Drivers'].agg('sum')\n",
    "total_rural_rides = rural_market['Number of Rides'].agg('sum')\n",
    "rural_fare_total = rural_market['Total Fares (City)'].agg('sum')\n",
    "rural_average_fare = rural_fare_total / total_rural_rides\n",
    "rural_driver_average = rural_fare_total / rural_drivers\n",
    "rural_rides_per_driver = total_rural_rides / rural_drivers\n",
    "\n",
    "# rural_market.head()\n",
    "# rural_drivers\n",
    "# total_rural_rides\n",
    "# rural_fare_total\n",
    "# rural_average_fare\n",
    "# rural_driver_average\n",
    "# rural_rides_per_driver"
   ]
  },
  {
   "cell_type": "code",
   "execution_count": null,
   "metadata": {},
   "outputs": [],
   "source": [
    "# Filter for SUBURBAN market analysis.\n",
    "\n",
    "suburban_market = per_city_summary_df[per_city_summary_df['Market Type'] == 'Suburban']\n",
    "suburban_drivers = suburban_market['Number of Drivers'].agg('sum')\n",
    "total_suburban_rides = suburban_market['Number of Rides'].agg('sum')\n",
    "suburban_fare_total = suburban_market['Total Fares (City)'].agg('sum')\n",
    "suburban_average_fare = suburban_fare_total / total_suburban_rides\n",
    "suburban_driver_average = suburban_fare_total / suburban_drivers\n",
    "suburban_rides_per_driver = total_suburban_rides / suburban_drivers\n",
    "\n",
    "# suburban_market.head()\n",
    "# suburban_drivers\n",
    "# total_suburban_rides\n",
    "# suburban_fare_total\n",
    "# suburban_average_fare\n",
    "# suburban_driver_average\n",
    "# suburban_rides_per_driver"
   ]
  },
  {
   "cell_type": "code",
   "execution_count": null,
   "metadata": {},
   "outputs": [],
   "source": [
    "# Filter for URBAN market analysis.\n",
    "\n",
    "urban_market = per_city_summary_df[per_city_summary_df['Market Type'] == 'Urban']\n",
    "urban_drivers = urban_market['Number of Drivers'].agg('sum')\n",
    "total_urban_rides = urban_market['Number of Rides'].agg('sum')\n",
    "urban_fare_total = urban_market['Total Fares (City)'].agg('sum')\n",
    "urban_average_fare = urban_fare_total / total_urban_rides\n",
    "urban_driver_average = urban_fare_total / urban_drivers\n",
    "urban_rides_per_driver = total_urban_rides / urban_drivers\n",
    "\n",
    "# urban_market.head()\n",
    "# urban_drivers\n",
    "# total_urban_rides\n",
    "# urban_fare_total\n",
    "# urban_average_fare\n",
    "# urban_driver_average\n",
    "# urban_rides_per_driver"
   ]
  },
  {
   "cell_type": "markdown",
   "metadata": {},
   "source": [
    "## Bubble Plot of Pyber Multi-Market Ride Sharing Data"
   ]
  },
  {
   "cell_type": "code",
   "execution_count": null,
   "metadata": {},
   "outputs": [],
   "source": [
    "# BUILD BUBBLE PLOT\n",
    "\n",
    "plt.figure(figsize = (15, 10))\n",
    "\n",
    "# Add rural stats.\n",
    "plt.scatter(rural_market['Number of Rides'], rural_market['Average Fare per Ride'], \n",
    "            marker = '8', \n",
    "            color = 'gold', \n",
    "            edgecolor = 'chocolate', \n",
    "            label = 'Rural', \n",
    "            alpha = 0.45, \n",
    "            s = rural_market['Number of Drivers'] * 40, \n",
    "            linewidths = 1.0)\n",
    "\n",
    "# Add suburban stats.\n",
    "plt.scatter(suburban_market['Number of Rides'], suburban_market['Average Fare per Ride'], \n",
    "            marker = '8', \n",
    "            color = 'skyblue', \n",
    "            edgecolor = 'teal', \n",
    "            label = 'Suburban', \n",
    "            alpha = 0.45, \n",
    "            s = suburban_market['Number of Drivers'] * 40, \n",
    "            linewidths = 1.5)\n",
    "\n",
    "# Add urban stats.\n",
    "plt.scatter(urban_market['Number of Rides'], urban_market['Average Fare per Ride'], \n",
    "            marker = '8', \n",
    "            color = 'coral', \n",
    "            edgecolor = 'tomato', \n",
    "            label = 'Urban', \n",
    "            alpha = 0.45, \n",
    "            s = urban_market['Number of Drivers'] * 40, \n",
    "            linewidths = 2.0)\n",
    "\n",
    "# Title the plot.\n",
    "plt.title('Pyber 2016 Multi-Market Data', fontsize = 30)\n",
    "\n",
    "# Label and limits for x-axis.\n",
    "plt.xlabel('Total Number of Rides Per City', fontsize = 16)\n",
    "plt.xlim (0, 40)\n",
    "\n",
    "# Label and limits for y-axis.\n",
    "plt.ylabel('Average Fare ($) Per City', fontsize = 16)\n",
    "plt.ylim (15, 45)\n",
    "\n",
    "# Add light grid.\n",
    "plt.grid(color = 'silver', linestyle = '-.', linewidth = 0.5)\n",
    "\n",
    "# Comment on bubble size relevance.\n",
    "bubble_size = ('Note: Size of bubble correlates to number of drivers in the city.')\n",
    "plt.text (11, 43.5, bubble_size, fontsize = 12, color = 'red', style = 'italic', wrap = True)\n",
    "\n",
    "# Add legend.\n",
    "plot_legend = plt.legend(title = 'Market Type', fontsize = 10, loc = 'best', scatterpoints = 1)\n",
    "plot_legend.legendHandles[0]._sizes = [100]\n",
    "plot_legend.legendHandles[1]._sizes = [100]\n",
    "plot_legend.legendHandles[2]._sizes = [100]\n",
    "\n",
    "# Save and display plot.\n",
    "plt.savefig('IMG1_BUBBLE_Pyber_Multi_Market_Summary.jpg')\n",
    "plt.show()"
   ]
  },
  {
   "cell_type": "code",
   "execution_count": null,
   "metadata": {},
   "outputs": [],
   "source": [
    "# Calculate percentages by market type:\n",
    "\n",
    "# : of total FARE \n",
    "rural_pct_total_fares = rural_fare_total / total_ALL_fares * 100\n",
    "suburban_pct_total_fares = suburban_fare_total / total_ALL_fares * 100\n",
    "urban_pct_total_fares = urban_fare_total / total_ALL_fares * 100\n",
    "\n",
    "# rural_pct_total_fares\n",
    "# suburban_pct_total_fares\n",
    "# urban_pct_total_fares\n",
    "\n",
    "# : of total RIDES \n",
    "rural_pct_total_rides = total_rural_rides / total_ALL_rides * 100\n",
    "suburban_pct_total_rides = total_suburban_rides / total_ALL_rides * 100\n",
    "urban_pct_total_rides = total_urban_rides / total_ALL_rides * 100\n",
    "\n",
    "# rural_pct_total_rides\n",
    "# suburban_pct_total_rides\n",
    "# urban_pct_total_rides\n",
    "\n",
    "# : of total DRIVERS \n",
    "rural_pct_total_drivers = rural_drivers / total_ALL_drivers * 100\n",
    "suburban_pct_total_drivers = suburban_drivers / total_ALL_drivers * 100\n",
    "urban_pct_total_drivers = urban_drivers / total_ALL_drivers * 100\n",
    "\n",
    "# rural_pct_total_drivers\n",
    "# suburban_pct_total_drivers\n",
    "# urban_pct_total_drivers"
   ]
  },
  {
   "cell_type": "code",
   "execution_count": null,
   "metadata": {},
   "outputs": [],
   "source": [
    "# Set variables for pie charts.\n",
    "market_fares = [rural_pct_total_fares, suburban_pct_total_fares, urban_pct_total_fares]\n",
    "market_rides = [rural_pct_total_rides, suburban_pct_total_rides, urban_pct_total_rides]\n",
    "market_drivers = [rural_pct_total_drivers, suburban_pct_total_drivers, urban_pct_total_drivers]\n",
    "\n",
    "market_types = ['Rural', 'Suburban', 'Urban']\n",
    "pyber_colors = ['gold', 'skyblue', 'coral']\n",
    "explode_amount = [0, 0, 0.15]"
   ]
  },
  {
   "cell_type": "markdown",
   "metadata": {},
   "source": [
    "## Total Fares by Market Type"
   ]
  },
  {
   "cell_type": "code",
   "execution_count": null,
   "metadata": {},
   "outputs": [],
   "source": [
    "# Plot pie chart for percentage of total fares by market type.\n",
    "fig, ax = plt.subplots()\n",
    "\n",
    "plt.pie(market_fares, \n",
    "        labels = market_types, \n",
    "        colors = pyber_colors, \n",
    "        startangle = -60, \n",
    "        autopct = '%1.1f%%', \n",
    "        explode = explode_amount, \n",
    "        pctdistance = 0.675, \n",
    "        shadow = True)\n",
    "\n",
    "ax.set(aspect = 'equal', title = 'Percentage of Total Fares by Market Type')\n",
    "\n",
    "# Save and display chart.\n",
    "plt.savefig('IMG2_PIE_Pyber_Fares_by_Market_Type_Comparison.jpg')\n",
    "plt.show()"
   ]
  },
  {
   "cell_type": "markdown",
   "metadata": {},
   "source": [
    "## Total Rides by Market Type"
   ]
  },
  {
   "cell_type": "code",
   "execution_count": null,
   "metadata": {},
   "outputs": [],
   "source": [
    "# Plot pie chart for percentage of total rides by market type.\n",
    "fig, ax = plt.subplots()\n",
    "\n",
    "plt.pie(market_rides, \n",
    "        labels = market_types, \n",
    "        colors = pyber_colors, \n",
    "        startangle = -50, \n",
    "        autopct = '%1.1f%%', \n",
    "        explode = explode_amount, \n",
    "        pctdistance = 0.675, \n",
    "        shadow = True)\n",
    "\n",
    "ax.set(aspect = 'equal', title = 'Percentage of Total Rides by Market Type')\n",
    "\n",
    "# Save and display chart.\n",
    "plt.savefig('IMG3_PIE_Pyber_Rides_by_Market_Type_Comparison.jpg')\n",
    "plt.show()"
   ]
  },
  {
   "cell_type": "markdown",
   "metadata": {},
   "source": [
    "## Total Drivers by Market Type"
   ]
  },
  {
   "cell_type": "code",
   "execution_count": null,
   "metadata": {},
   "outputs": [],
   "source": [
    "# Plot pie chart for percentage of total drivers by market type.\n",
    "fig, ax = plt.subplots()\n",
    "\n",
    "plt.pie(market_drivers, \n",
    "        labels = market_types, \n",
    "        colors = pyber_colors, \n",
    "        startangle = -25, \n",
    "        autopct = '%1.1f%%', \n",
    "        explode = explode_amount, \n",
    "        pctdistance = 0.675, \n",
    "        shadow = True)\n",
    "\n",
    "ax.set(aspect = 'equal', title = 'Percentage of Total Drivers by Market Type')\n",
    "\n",
    "# Save and display chart.\n",
    "plt.savefig('IMG4_PIE_Pyber_Drivers_by_Market_Type_Comparison.jpg')\n",
    "plt.show()"
   ]
  },
  {
   "cell_type": "markdown",
   "metadata": {},
   "source": [
    "## ADDITIONAL ANALYSIS: Average Rides per Driver"
   ]
  },
  {
   "cell_type": "code",
   "execution_count": null,
   "metadata": {},
   "outputs": [],
   "source": [
    "rides = [rural_rides_per_driver, suburban_rides_per_driver, urban_rides_per_driver]\n",
    "\n",
    "plt.bar(market_types, rides, color = pyber_colors, align = 'center', alpha = 1)\n",
    "plt.hlines(1, -1, 3, linestyles = ':', color = 'silver')\n",
    "plt.xticks(market_types)\n",
    "plt.xlabel('Market Type')\n",
    "plt.ylabel('Average Rides')\n",
    "plt.title('Average Rides per Driver by Market Type')\n",
    "\n",
    "plt.savefig('IMG5_BAR_Pyber_Rides_per_Driver_and_Market_Type.jpg')\n",
    "plt.show()"
   ]
  },
  {
   "cell_type": "markdown",
   "metadata": {},
   "source": [
    "## ADDITIONAL ANALYSIS: Average Fare per Driver"
   ]
  },
  {
   "cell_type": "code",
   "execution_count": null,
   "metadata": {},
   "outputs": [],
   "source": [
    "fares = [rural_driver_average, suburban_driver_average, urban_driver_average]\n",
    "\n",
    "plt.bar(market_types, fares, color = pyber_colors, align = 'center', alpha = 1)\n",
    "plt.hlines(0, -1, 3, linestyles = ':', color = 'silver')\n",
    "plt.xticks(market_types)\n",
    "plt.xlabel('Market Type')\n",
    "plt.ylabel('Average Fare per Driver ($)')\n",
    "plt.title('Average Fare per Driver by Market Type')\n",
    "\n",
    "plt.savefig('IMG6_BAR_Pyber_Fare_per_Driver_and_Market_Type.jpg')\n",
    "plt.show()"
   ]
  }
 ],
 "metadata": {
  "anaconda-cloud": {},
  "kernelspec": {
   "display_name": "Python 3",
   "language": "python",
   "name": "python3"
  },
  "language_info": {
   "codemirror_mode": {
    "name": "ipython",
    "version": 3
   },
   "file_extension": ".py",
   "mimetype": "text/x-python",
   "name": "python",
   "nbconvert_exporter": "python",
   "pygments_lexer": "ipython3",
   "version": "3.7.3"
  },
  "varInspector": {
   "cols": {
    "lenName": 16,
    "lenType": 16,
    "lenVar": 40
   },
   "kernels_config": {
    "python": {
     "delete_cmd_postfix": "",
     "delete_cmd_prefix": "del ",
     "library": "var_list.py",
     "varRefreshCmd": "print(var_dic_list())"
    },
    "r": {
     "delete_cmd_postfix": ") ",
     "delete_cmd_prefix": "rm(",
     "library": "var_list.r",
     "varRefreshCmd": "cat(var_dic_list()) "
    }
   },
   "types_to_exclude": [
    "module",
    "function",
    "builtin_function_or_method",
    "instance",
    "_Feature"
   ],
   "window_display": false
  }
 },
 "nbformat": 4,
 "nbformat_minor": 2
}
